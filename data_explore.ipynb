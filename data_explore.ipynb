{
 "cells": [
  {
   "cell_type": "code",
   "execution_count": null,
   "metadata": {},
   "outputs": [],
   "source": [
    "from datar.all import *\n",
    "import pandas as pd"
   ]
  },
  {
   "cell_type": "code",
   "execution_count": null,
   "metadata": {},
   "outputs": [],
   "source": [
    "df = pd.read_csv(\"./ManicTimeData_2023-06-04.csv\")\n",
    "df"
   ]
  },
  {
   "cell_type": "code",
   "execution_count": null,
   "metadata": {},
   "outputs": [],
   "source": [
    "df[\"Date\"] = df.Start.apply(lambda x:x[0:10]) >> as_date()\n",
    "df['Duration'] = pd.to_timedelta(df['Duration'])\n",
    "df['Start'] = pd.to_datetime(df['Start'],format='%Y-%m-%dT%H:%M:%S.%f')\n",
    "df['End'] = pd.to_datetime(df['End'],format='%Y-%m-%dT%H:%M:%S.%f')\n",
    "df"
   ]
  },
  {
   "cell_type": "code",
   "execution_count": null,
   "metadata": {},
   "outputs": [],
   "source": [
    "def midnight_split(df):\n",
    "    selected = df >> filter(df.Start.apply(lambda x:x.date()) != df.End.apply(lambda x:x.date()))\n",
    "    \n",
    "    for row in selected.itertuples():\n",
    "        index = row.Index\n",
    "        name = row.Name\n",
    "        start1 = row.Start\n",
    "        start2 = pd.to_datetime(start1.date() + pd.Timedelta(days=1))\n",
    "        end1 = start2\n",
    "        end2 = row.End\n",
    "        duration1 = end1 - start1\n",
    "        duration2 = end2 - start2\n",
    "        process = row.Process\n",
    "        date1 = pd.to_datetime(row.Date)\n",
    "        date2 = pd.to_datetime(start1.date() + pd.Timedelta(days=1))\n",
    "        df.loc[index] = [name,start1,end1,duration1,process,date1]\n",
    "        df.loc[index+0.5] = [name,start2,end2,duration2,process,date2]\n",
    "    df = df.sort_index().reset_index(drop=True)\n",
    "    return df\n",
    "df = midnight_split(df)\n",
    "df.loc[750:760]"
   ]
  },
  {
   "cell_type": "code",
   "execution_count": null,
   "metadata": {},
   "outputs": [],
   "source": [
    "df['Week'] = df.Date.apply(lambda x:f'{x.year}-{x.week}')\n",
    "df['Month'] = df.Date.apply(lambda x:f'{x.year}-{x.month}')\n",
    "df['Year'] = df.Date.apply(lambda x:f'{x.year}')\n",
    "df"
   ]
  },
  {
   "cell_type": "code",
   "execution_count": null,
   "metadata": {},
   "outputs": [],
   "source": [
    "df.to_parquet('data.parquet',engine=\"pyarrow\")"
   ]
  },
  {
   "cell_type": "code",
   "execution_count": null,
   "metadata": {},
   "outputs": [],
   "source": [
    "import plotly.express as px"
   ]
  },
  {
   "cell_type": "code",
   "execution_count": null,
   "metadata": {},
   "outputs": [],
   "source": [
    "from pipda import register_verb,Context\n",
    "\n",
    "@register_verb(context=Context.EVAL)\n",
    "def vmap(data,func):\n",
    "    return map(func,data)\n",
    "\n",
    "@register_verb(context=Context.EVAL)\n",
    "def vjoin(data,string):\n",
    "    return string.join(data)\n",
    "\n",
    "#TODO:格式检查\n",
    "@register_verb(cls = str)\n",
    "def duration_to_seconds(time:str):\n",
    "    hour,minute,second = time.split(\":\") >> vmap(int)\n",
    "    return hour * 3600 + minute * 60 + second\n",
    "\n",
    "@register_verb(cls = int)\n",
    "def seconds_to_duration(time:int):\n",
    "    hour = time // 3600\n",
    "    minute = (time - hour * 3600) // 60\n",
    "    seconds = time - hour * 3600 - minute * 60\n",
    "    return f'{hour:0>2}:{minute:0>2}:{seconds:0>2}'\n",
    "\n",
    "@register_verb(cls=pd.Timedelta)\n",
    "def timedelta_to_hours(time:pd.Timedelta):\n",
    "    days = time.days\n",
    "    seconds = time.seconds\n",
    "    hours = days * 24 + round(seconds / 3600,2)\n",
    "    return hours\n",
    "\n",
    "\"01:48:06\" >> duration_to_seconds() >> seconds_to_duration()"
   ]
  },
  {
   "cell_type": "code",
   "execution_count": null,
   "metadata": {},
   "outputs": [],
   "source": [
    "\n",
    "#每日活跃时长\n",
    "def active_duration_per_day():\n",
    "    df_active = df >> group_by(f.Date) >> summarise(Active = sum(f.Duration)) \n",
    "    df_active['Active'] = df_active.Active.apply(timedelta_to_hours)\n",
    "    return df_active\n",
    "active_df = active_duration_per_day()\n",
    "active_df"
   ]
  },
  {
   "cell_type": "code",
   "execution_count": null,
   "metadata": {},
   "outputs": [],
   "source": [
    "fig = px.bar(active_df, x='Date', y='Active')\n",
    "fig.show()"
   ]
  },
  {
   "cell_type": "code",
   "execution_count": null,
   "metadata": {},
   "outputs": [],
   "source": [
    "#TODO:合并成一个类\n",
    "\n",
    "#TODO:优化星期表示\n",
    "# 每星期活跃时长\n",
    "def active_duration_per_week():\n",
    "    df_active = df >> group_by(f.Week) >> summarise(active = sum(f.Duration)) \n",
    "    return df_active\n",
    "# 每月活跃时长\n",
    "def active_duration_per_month():\n",
    "    df_active = df >> group_by(f.Month) >> summarise(active = sum(f.Duration)) \n",
    "    return df_active\n",
    "# 每年活跃市场\n",
    "def active_duration_per_year():\n",
    "    df_active = df >> group_by(f.Year) >> summarise(active = sum(f.Duration)) \n",
    "    return df_active\n",
    "def active_duration_from_to(date_from,date_to):\n",
    "    df_active = df >> filter(f.Date >= pd.to_datetime(date_from) and f.Date <= pd.to_datetime(date_to)) >> summarise(active = sum(f.Duration)) \n",
    "    return df_active\n",
    "def active_duration_per_week_from_to(date_from,date_to):\n",
    "    df_active = df >> filter(f.Date >= pd.to_datetime(date_from) and f.Date <= pd.to_datetime(date_to)) >> group_by(f.Week) >> summarise(active = sum(f.Duration)) \n",
    "    return df_active"
   ]
  },
  {
   "cell_type": "code",
   "execution_count": null,
   "metadata": {},
   "outputs": [],
   "source": [
    "active_duration_from_to('2023-1-5','2023-2-8')"
   ]
  },
  {
   "cell_type": "code",
   "execution_count": null,
   "metadata": {},
   "outputs": [],
   "source": [
    "active_duration_per_week_from_to('2023-1-5','2023-2-8')"
   ]
  },
  {
   "cell_type": "code",
   "execution_count": null,
   "metadata": {},
   "outputs": [],
   "source": [
    "active_duration_per_month(),active_duration_per_week(),active_duration_per_year()"
   ]
  },
  {
   "cell_type": "code",
   "execution_count": null,
   "metadata": {},
   "outputs": [],
   "source": [
    "def apps_per_day():\n",
    "    pass"
   ]
  }
 ],
 "metadata": {
  "kernelspec": {
   "display_name": "base",
   "language": "python",
   "name": "python3"
  },
  "language_info": {
   "codemirror_mode": {
    "name": "ipython",
    "version": 3
   },
   "file_extension": ".py",
   "mimetype": "text/x-python",
   "name": "python",
   "nbconvert_exporter": "python",
   "pygments_lexer": "ipython3",
   "version": "3.10.11"
  },
  "orig_nbformat": 4
 },
 "nbformat": 4,
 "nbformat_minor": 2
}
