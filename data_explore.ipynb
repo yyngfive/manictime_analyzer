{
 "cells": [
  {
   "cell_type": "code",
   "execution_count": null,
   "metadata": {},
   "outputs": [],
   "source": [
    "from datar.all import *\n",
    "import pandas as pd"
   ]
  },
  {
   "cell_type": "code",
   "execution_count": null,
   "metadata": {},
   "outputs": [],
   "source": [
    "df = pd.read_csv(\"./ManicTimeData_2023-06-04.csv\")\n",
    "df"
   ]
  },
  {
   "cell_type": "code",
   "execution_count": null,
   "metadata": {},
   "outputs": [],
   "source": [
    "df.Start.apply(lambda x:x[0:10]) >> as_date()"
   ]
  },
  {
   "cell_type": "code",
   "execution_count": null,
   "metadata": {},
   "outputs": [],
   "source": [
    "df[\"Date\"] = df.Start.apply(lambda x:x[0:10])\n",
    "df['Duration'] = pd.to_timedelta(df['Duration'])\n",
    "df"
   ]
  },
  {
   "cell_type": "code",
   "execution_count": null,
   "metadata": {},
   "outputs": [],
   "source": [
    "from pipda import register_verb,Context\n",
    "\n",
    "@register_verb(context=Context.EVAL)\n",
    "def vmap(data,func):\n",
    "    return map(func,data)\n",
    "\n",
    "@register_verb(context=Context.EVAL)\n",
    "def vjoin(data,string):\n",
    "    return string.join(data)\n",
    "\n",
    "#TODO:格式检查\n",
    "@register_verb(cls = str)\n",
    "def duration_to_seconds(time:str):\n",
    "    hour,minute,second = time.split(\":\") >> vmap(int)\n",
    "    return hour * 3600 + minute * 60 + second\n",
    "\n",
    "@register_verb(cls = int)\n",
    "def seconds_to_duration(time:int):\n",
    "    hour = time // 3600\n",
    "    minute = (time - hour * 3600) // 60\n",
    "    seconds = time - hour * 3600 - minute * 60\n",
    "    return f'{hour:0>2}:{minute:0>2}:{seconds:0>2}'\n",
    "\n",
    "\"01:48:06\" >> duration_to_seconds() >> seconds_to_duration()"
   ]
  },
  {
   "cell_type": "code",
   "execution_count": null,
   "metadata": {},
   "outputs": [],
   "source": [
    "df >> tail()"
   ]
  },
  {
   "cell_type": "code",
   "execution_count": null,
   "metadata": {},
   "outputs": [],
   "source": [
    "#每日活跃时长\n",
    "def active_duration_per_day(date):\n",
    "    duration = df >> select(f.Date,f.Duration) >> filter(f.Date == date) >> select(f.Duration)\n",
    "    "
   ]
  },
  {
   "cell_type": "code",
   "execution_count": null,
   "metadata": {},
   "outputs": [],
   "source": [
    "df >> group_by(f.Date) >> summarise(activie = sum(f.Duration))"
   ]
  },
  {
   "cell_type": "code",
   "execution_count": null,
   "metadata": {},
   "outputs": [],
   "source": [
    "duration = df >> select(f.Date,f.Duration) >> filter(f.Date == \"2023-05-23\") >> select(f.Duration)\n",
    "pd.to_timedelta(df['Duration'])"
   ]
  }
 ],
 "metadata": {
  "kernelspec": {
   "display_name": "base",
   "language": "python",
   "name": "python3"
  },
  "language_info": {
   "codemirror_mode": {
    "name": "ipython",
    "version": 3
   },
   "file_extension": ".py",
   "mimetype": "text/x-python",
   "name": "python",
   "nbconvert_exporter": "python",
   "pygments_lexer": "ipython3",
   "version": "3.10.9"
  },
  "orig_nbformat": 4
 },
 "nbformat": 4,
 "nbformat_minor": 2
}
