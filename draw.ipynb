{
 "cells": [
  {
   "cell_type": "code",
   "execution_count": null,
   "metadata": {},
   "outputs": [],
   "source": [
    "from datar.all import *\n",
    "import pandas as pd\n",
    "import plotly.express as px\n",
    "from pipda import register_verb,Context"
   ]
  },
  {
   "cell_type": "code",
   "execution_count": null,
   "metadata": {},
   "outputs": [],
   "source": [
    "@register_verb(cls=pd.Timedelta)\n",
    "def timedelta_to_hours(time:pd.Timedelta):\n",
    "    days = time.days\n",
    "    seconds = time.seconds\n",
    "    hours = days * 24 + round(seconds / 3600,2)\n",
    "    return hours"
   ]
  },
  {
   "cell_type": "code",
   "execution_count": null,
   "metadata": {},
   "outputs": [],
   "source": [
    "df = pd.read_parquet(\"data.parquet\", engine=\"pyarrow\")\n",
    "df"
   ]
  },
  {
   "cell_type": "code",
   "execution_count": null,
   "metadata": {},
   "outputs": [],
   "source": [
    "#每日活跃时长\n",
    "def active_duration_per_day():\n",
    "    df_active = df >> group_by(f.Date) >> summarise(Active = sum(f.Duration)) \n",
    "    df_active['Active'] = df_active.Active.apply(timedelta_to_hours)\n",
    "    return df_active\n",
    "active_df = active_duration_per_day()\n",
    "active_df"
   ]
  },
  {
   "cell_type": "code",
   "execution_count": null,
   "metadata": {},
   "outputs": [],
   "source": [
    "fig = px.bar(active_df, x='Date', y='Active')\n",
    "fig.show()"
   ]
  }
 ],
 "metadata": {
  "kernelspec": {
   "display_name": "dash-app",
   "language": "python",
   "name": "python3"
  },
  "language_info": {
   "codemirror_mode": {
    "name": "ipython",
    "version": 3
   },
   "file_extension": ".py",
   "mimetype": "text/x-python",
   "name": "python",
   "nbconvert_exporter": "python",
   "pygments_lexer": "ipython3",
   "version": "3.10.11"
  },
  "orig_nbformat": 4
 },
 "nbformat": 4,
 "nbformat_minor": 2
}
